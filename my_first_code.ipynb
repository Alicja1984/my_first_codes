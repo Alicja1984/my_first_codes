{
 "cells": [
  {
   "cell_type": "code",
   "execution_count": 22,
   "id": "ab28ba79-3647-455c-9a28-4b69610d6c97",
   "metadata": {
    "tags": []
   },
   "outputs": [
    {
     "data": {
      "text/plain": [
       "4"
      ]
     },
     "execution_count": 22,
     "metadata": {},
     "output_type": "execute_result"
    }
   ],
   "source": [
    "letter_list = []\n",
    "def count(letter, string):\n",
    "    \"\"\" Checks how many times \"letter\" appears in \"string\" \"\"\"\n",
    "    x = 0\n",
    "    while x in range(len(string)):\n",
    "        a = string[x]\n",
    "        if a == letter:\n",
    "            letter_list.append(a)\n",
    "        x = x+1\n",
    "    return(letter_list)\n",
    "\n",
    "letter1 = \"o\"\n",
    "string1 = \"who you are and who you will be?\"\n",
    "f = count(letter1, string1)\n",
    "len(f)"
   ]
  },
  {
   "cell_type": "code",
   "execution_count": 32,
   "id": "85fac31e-5420-4788-bc21-d75bcf6ffb9b",
   "metadata": {
    "tags": []
   },
   "outputs": [
    {
     "data": {
      "text/plain": [
       "2"
      ]
     },
     "execution_count": 32,
     "metadata": {},
     "output_type": "execute_result"
    }
   ],
   "source": [
    "word_list = []\n",
    "def count(word, string):\n",
    "    \"\"\" Checks how many times \"word\" appears in \"string\" \"\"\"\n",
    "    list1 = string.split()\n",
    "    x = 0\n",
    "    while x in range(len(list1)):\n",
    "        a = list1[x]\n",
    "        if a == word:\n",
    "            word_list.append(a)\n",
    "        x = x+1\n",
    "    return(word_list)\n",
    "\n",
    "word1 = \"who\"\n",
    "string1 = \"who you are and who you will be ?\"\n",
    "f1 = count(word1, string1)\n",
    "len(f1)"
   ]
  },
  {
   "cell_type": "code",
   "execution_count": 49,
   "id": "941011e7-fdad-412e-a994-ac2d75c15bc7",
   "metadata": {},
   "outputs": [
    {
     "name": "stdout",
     "output_type": "stream",
     "text": [
      "Word who appears 1 time(s) in this string\n",
      "Word you appears 1 time(s) in this string\n",
      "Word are appears 1 time(s) in this string\n",
      "Word and appears 1 time(s) in this string\n",
      "Word who appears 2 time(s) in this string\n",
      "Word you appears 2 time(s) in this string\n",
      "Word will appears 1 time(s) in this string\n",
      "Word be appears 1 time(s) in this string\n",
      "Word ? appears 1 time(s) in this string\n",
      "{'who': 2, 'you': 2, 'are': 1, 'and': 1, 'will': 1, 'be': 1, '?': 1}\n"
     ]
    }
   ],
   "source": [
    "# My own method:\n",
    "word_count = {}\n",
    "def count(string):\n",
    "    \"\"\" Checks how many times each word appears in \"string\" \"\"\"\n",
    "    list2 = string.split()\n",
    "    y = 0\n",
    "    while y in range(len(list2)):\n",
    "        b = list2[y]\n",
    "        if b not in word_count:\n",
    "            word_count[b] = 1\n",
    "        else: \n",
    "            word_count[b] += 1\n",
    "        print(f\"Word {b} appears {word_count[b]} time(s) in this string\")\n",
    "        y = y+1\n",
    "    #z = 0\n",
    "    #while z in range(len(word_count)):\n",
    "       # print(f\"Word {b} appears {word_count[b]} time(s) in this string\")\n",
    "       # z = z+1\n",
    "    return(word_count)\n",
    "    \n",
    "string2 = \"who you are and who you will be ?\"\n",
    "f2 = count(string2)\n",
    "print(f2)\n"
   ]
  },
  {
   "cell_type": "code",
   "execution_count": 51,
   "id": "38cce59d-c274-40ae-b03c-1adb31166c63",
   "metadata": {
    "tags": []
   },
   "outputs": [
    {
     "name": "stdout",
     "output_type": "stream",
     "text": [
      "Word who appears 2 time(s) in this string\n",
      "Word you appears 2 time(s) in this string\n",
      "Word are appears 1 time(s) in this string\n",
      "Word and appears 1 time(s) in this string\n",
      "Word who appears 2 time(s) in this string\n",
      "Word you appears 2 time(s) in this string\n",
      "Word will appears 1 time(s) in this string\n",
      "Word be appears 1 time(s) in this string\n",
      "Word ? appears 1 time(s) in this string\n",
      "{'who': 2, 'you': 2, 'are': 1, 'and': 1, 'will': 1, 'be': 1, '?': 1}\n"
     ]
    }
   ],
   "source": [
    "# Method from the lab instructions:\n",
    "word_count = {}\n",
    "def count(string):\n",
    "    \"\"\" Checks how many times each word appears in \"string\" \"\"\"\n",
    "    list2 = string.split()\n",
    "    for key in list2:\n",
    "        word_count[key] = list2.count(key)\n",
    "        print(f\"Word {key} appears {word_count[key]} time(s) in this string\")\n",
    "    return(word_count)\n",
    "    \n",
    "string2 = \"who you are and who you will be ?\"\n",
    "f2 = count(string2)\n",
    "print(f2)\n"
   ]
  }
 ],
 "metadata": {
  "kernelspec": {
   "display_name": "Python",
   "language": "python",
   "name": "conda-env-python-py"
  },
  "language_info": {
   "codemirror_mode": {
    "name": "ipython",
    "version": 3
   },
   "file_extension": ".py",
   "mimetype": "text/x-python",
   "name": "python",
   "nbconvert_exporter": "python",
   "pygments_lexer": "ipython3",
   "version": "3.7.12"
  }
 },
 "nbformat": 4,
 "nbformat_minor": 5
}
